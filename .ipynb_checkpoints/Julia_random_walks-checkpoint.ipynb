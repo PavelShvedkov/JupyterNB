{
 "cells": [
  {
   "cell_type": "code",
   "execution_count": 13,
   "metadata": {},
   "outputs": [
    {
     "ename": "LoadError",
     "evalue": "ArgumentError: Package matplotlib not found in current path:\n- Run `import Pkg; Pkg.add(\"matplotlib\")` to install the matplotlib package.\n",
     "output_type": "error",
     "traceback": [
      "ArgumentError: Package matplotlib not found in current path:\n- Run `import Pkg; Pkg.add(\"matplotlib\")` to install the matplotlib package.\n",
      "",
      "Stacktrace:",
      " [1] require(into::Module, mod::Symbol)",
      "   @ Base .\\loading.jl:871",
      " [2] eval",
      "   @ .\\boot.jl:360 [inlined]",
      " [3] include_string(mapexpr::typeof(REPL.softscope), mod::Module, code::String, filename::String)",
      "   @ Base .\\loading.jl:1094"
     ]
    }
   ],
   "source": [
    "import matplotlib.pyplot"
   ]
  },
  {
   "cell_type": "code",
   "execution_count": 9,
   "metadata": {},
   "outputs": [
    {
     "data": {
      "text/plain": [
       "random_walks (generic function with 1 method)"
      ]
     },
     "execution_count": 9,
     "metadata": {},
     "output_type": "execute_result"
    }
   ],
   "source": [
    "function random_walks(iterations,chance_positive_step)\n",
    "    steps= np.zeros(iterations)\n",
    "    \n",
    "    for i in range(1,iterations)\n",
    "        steps[i]=steps[i-1]+random.choices([-1, 1],weights=[1-chance_positive_step, chance_positive_step])\n",
    "    end\n",
    "    return (np.array(range(0,iterations)), np.array(steps))\n",
    "end"
   ]
  },
  {
   "cell_type": "code",
   "execution_count": 14,
   "metadata": {},
   "outputs": [
    {
     "ename": "LoadError",
     "evalue": "UndefVarError: np not defined",
     "output_type": "error",
     "traceback": [
      "UndefVarError: np not defined",
      "",
      "Stacktrace:",
      " [1] random_walks(iterations::Int64, chance_positive_step::Float64)",
      "   @ Main .\\In[9]:2",
      " [2] top-level scope",
      "   @ In[14]:1",
      " [3] eval",
      "   @ .\\boot.jl:360 [inlined]",
      " [4] include_string(mapexpr::typeof(REPL.softscope), mod::Module, code::String, filename::String)",
      "   @ Base .\\loading.jl:1094"
     ]
    }
   ],
   "source": [
    "random_walks(100,0.5)"
   ]
  },
  {
   "cell_type": "code",
   "execution_count": null,
   "metadata": {},
   "outputs": [],
   "source": []
  }
 ],
 "metadata": {
  "kernelspec": {
   "display_name": "Julia 1.6.1",
   "language": "julia",
   "name": "julia-1.6"
  },
  "language_info": {
   "file_extension": ".jl",
   "mimetype": "application/julia",
   "name": "julia",
   "version": "1.6.1"
  }
 },
 "nbformat": 4,
 "nbformat_minor": 4
}
